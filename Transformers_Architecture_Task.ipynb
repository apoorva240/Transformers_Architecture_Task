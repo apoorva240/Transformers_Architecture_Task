{
  "nbformat": 4,
  "nbformat_minor": 0,
  "metadata": {
    "colab": {
      "provenance": []
    },
    "kernelspec": {
      "name": "python3",
      "display_name": "Python 3"
    },
    "language_info": {
      "name": "python"
    }
  },
  "cells": [
    {
      "cell_type": "code",
      "execution_count": 2,
      "metadata": {
        "id": "pdX1g5IaE1Dy"
      },
      "outputs": [],
      "source": [
        "import pandas as pd\n",
        "from sklearn.model_selection import train_test_split\n",
        "from sklearn.preprocessing import LabelEncoder\n",
        "from tensorflow.keras.preprocessing.text import Tokenizer\n",
        "from tensorflow.keras.preprocessing.sequence import pad_sequences\n",
        "\n",
        "# Load the datasets\n",
        "titles = pd.read_csv('basics.tsv', sep='\\t')\n",
        "ratings = pd.read_csv('ratings.tsv', sep='\\t')\n",
        "\n",
        "# Merge the datasets\n",
        "data = pd.merge(titles, ratings, on='tconst')\n",
        "\n",
        "# Filter for movies only\n",
        "movies = data[data['titleType'] == 'movie']\n",
        "\n",
        "# Extract relevant columns\n",
        "reviews = movies[['originalTitle', 'genres', 'primaryTitle', 'isAdult', 'averageRating', 'numVotes']]\n",
        "\n",
        "# For simplicity, let's consider reviews with a significant number of votes\n",
        "reviews = reviews[reviews['numVotes'] > 1000]\n",
        "\n",
        "# Assign positive/negative sentiment based on average rating\n",
        "reviews['sentiment'] = reviews['averageRating'].apply(lambda x: 'positive' if x >= 7 else 'negative')\n",
        "\n",
        "# Split the data into training and testing sets\n",
        "train_data, test_data = train_test_split(reviews, test_size=0.2, random_state=42)\n",
        "\n",
        "# Tokenize the text data\n",
        "tokenizer = Tokenizer(oov_token='<OOV>')\n",
        "tokenizer.fit_on_texts(train_data['originalTitle'])\n",
        "\n",
        "train_sequences = tokenizer.texts_to_sequences(train_data['originalTitle'])\n",
        "test_sequences = tokenizer.texts_to_sequences(test_data['originalTitle'])\n",
        "\n",
        "# Pad sequences to a fixed length\n",
        "max_length = 50\n",
        "train_sequences = pad_sequences(train_sequences, maxlen=max_length, padding='post')\n",
        "test_sequences = pad_sequences(test_sequences, maxlen=max_length, padding='post')\n",
        "\n",
        "# Encode labels\n",
        "label_encoder = LabelEncoder()\n",
        "train_labels = label_encoder.fit_transform(train_data['sentiment'])\n",
        "test_labels = label_encoder.transform(test_data['sentiment'])\n"
      ]
    },
    {
      "cell_type": "code",
      "source": [
        "import tensorflow as tf\n",
        "from tensorflow.keras.models import Sequential\n",
        "from tensorflow.keras.layers import Embedding, GlobalAveragePooling1D, Dense, MultiHeadAttention, LayerNormalization, TimeDistributed\n",
        "\n",
        "# Define a simple transformer block\n",
        "class TransformerBlock(tf.keras.layers.Layer):\n",
        "    def __init__(self, embed_dim, num_heads, ff_dim, rate=0.1):\n",
        "        super(TransformerBlock, self).__init__()\n",
        "        self.att = MultiHeadAttention(num_heads=num_heads, key_dim=embed_dim)\n",
        "        self.ffn = Sequential([\n",
        "            TimeDistributed(Dense(ff_dim, activation='relu')),\n",
        "            TimeDistributed(Dense(embed_dim))\n",
        "        ])\n",
        "        self.layernorm1 = LayerNormalization(epsilon=1e-6)\n",
        "        self.layernorm2 = LayerNormalization(epsilon=1e-6)\n",
        "        self.dropout1 = tf.keras.layers.Dropout(rate)\n",
        "        self.dropout2 = tf.keras.layers.Dropout(rate)\n",
        "\n",
        "    def call(self, inputs, training):\n",
        "        attn_output = self.att(inputs, inputs)\n",
        "        attn_output = self.dropout1(attn_output, training=training)\n",
        "        out1 = self.layernorm1(inputs + attn_output)\n",
        "\n",
        "        ffn_output = self.ffn(out1)\n",
        "        ffn_output = self.dropout2(ffn_output, training=training)\n",
        "\n",
        "        return self.layernorm2(out1 + ffn_output)\n",
        "\n",
        "# Define your transformer model\n",
        "model = Sequential([\n",
        "    Embedding(input_dim=len(tokenizer.word_index) + 1, output_dim=128, input_length=max_length),\n",
        "    TransformerBlock(embed_dim=128, num_heads=2, ff_dim=32),\n",
        "    GlobalAveragePooling1D(),\n",
        "    Dense(1, activation='sigmoid')\n",
        "])\n",
        "\n",
        "# Compile the model\n",
        "model.compile(optimizer='adam', loss='binary_crossentropy', metrics=['accuracy'])\n"
      ],
      "metadata": {
        "id": "I-MIJvuJJryY"
      },
      "execution_count": 9,
      "outputs": []
    },
    {
      "cell_type": "code",
      "source": [
        "model.fit(train_sequences, train_labels, epochs=5, validation_data=(test_sequences, test_labels))"
      ],
      "metadata": {
        "colab": {
          "base_uri": "https://localhost:8080/"
        },
        "id": "JqWT1fBkJ-QG",
        "outputId": "0caac416-b1d2-4841-8a9a-95d14961cc97"
      },
      "execution_count": 10,
      "outputs": [
        {
          "output_type": "stream",
          "name": "stdout",
          "text": [
            "Epoch 1/5\n",
            "139/139 [==============================] - 15s 94ms/step - loss: 0.7154 - accuracy: 0.5355 - val_loss: 0.6782 - val_accuracy: 0.5868\n",
            "Epoch 2/5\n",
            "139/139 [==============================] - 13s 92ms/step - loss: 0.5996 - accuracy: 0.6958 - val_loss: 0.7765 - val_accuracy: 0.5796\n",
            "Epoch 3/5\n",
            "139/139 [==============================] - 13s 92ms/step - loss: 0.3378 - accuracy: 0.8696 - val_loss: 0.8558 - val_accuracy: 0.5714\n",
            "Epoch 4/5\n",
            "139/139 [==============================] - 12s 89ms/step - loss: 0.1819 - accuracy: 0.9270 - val_loss: 1.0642 - val_accuracy: 0.5859\n",
            "Epoch 5/5\n",
            "139/139 [==============================] - 11s 78ms/step - loss: 0.1229 - accuracy: 0.9415 - val_loss: 1.2823 - val_accuracy: 0.5624\n"
          ]
        },
        {
          "output_type": "execute_result",
          "data": {
            "text/plain": [
              "<keras.src.callbacks.History at 0x795e843573a0>"
            ]
          },
          "metadata": {},
          "execution_count": 10
        }
      ]
    },
    {
      "cell_type": "code",
      "source": [
        "loss, accuracy = model.evaluate(test_sequences, test_labels)\n",
        "print(f'Test Loss: {loss}, Test Accuracy: {accuracy}')"
      ],
      "metadata": {
        "colab": {
          "base_uri": "https://localhost:8080/"
        },
        "id": "sEvQm8gkLiiL",
        "outputId": "5e6b8d77-9674-4b1b-fe4a-aa664bf66fe3"
      },
      "execution_count": 11,
      "outputs": [
        {
          "output_type": "stream",
          "name": "stdout",
          "text": [
            "35/35 [==============================] - 1s 38ms/step - loss: 1.2823 - accuracy: 0.5624\n",
            "Test Loss: 1.2822813987731934, Test Accuracy: 0.5623869895935059\n"
          ]
        }
      ]
    },
    {
      "cell_type": "code",
      "source": [],
      "metadata": {
        "id": "iB8Cn7AwMXPE"
      },
      "execution_count": null,
      "outputs": []
    }
  ]
}